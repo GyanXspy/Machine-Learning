{
 "cells": [
  {
   "cell_type": "code",
   "execution_count": 2,
   "id": "8b3c75ad-2272-4d8e-bc5f-c9822695b18f",
   "metadata": {},
   "outputs": [
    {
     "name": "stdout",
     "output_type": "stream",
     "text": [
      "Requirement already satisfied: kaggle in e:\\anaconda\\lib\\site-packages (1.7.4.5)\n",
      "Requirement already satisfied: bleach in e:\\anaconda\\lib\\site-packages (from kaggle) (4.1.0)\n",
      "Requirement already satisfied: certifi>=14.05.14 in e:\\anaconda\\lib\\site-packages (from kaggle) (2024.6.2)\n",
      "Requirement already satisfied: charset-normalizer in e:\\anaconda\\lib\\site-packages (from kaggle) (2.0.4)\n",
      "Requirement already satisfied: idna in e:\\anaconda\\lib\\site-packages (from kaggle) (3.7)\n",
      "Requirement already satisfied: protobuf in e:\\anaconda\\lib\\site-packages (from kaggle) (3.20.3)\n",
      "Requirement already satisfied: python-dateutil>=2.5.3 in e:\\anaconda\\lib\\site-packages (from kaggle) (2.9.0.post0)\n",
      "Requirement already satisfied: python-slugify in e:\\anaconda\\lib\\site-packages (from kaggle) (5.0.2)\n",
      "Requirement already satisfied: requests in e:\\anaconda\\lib\\site-packages (from kaggle) (2.32.2)\n",
      "Requirement already satisfied: setuptools>=21.0.0 in e:\\anaconda\\lib\\site-packages (from kaggle) (69.5.1)\n",
      "Requirement already satisfied: six>=1.10 in e:\\anaconda\\lib\\site-packages (from kaggle) (1.16.0)\n",
      "Requirement already satisfied: text-unidecode in e:\\anaconda\\lib\\site-packages (from kaggle) (1.3)\n",
      "Requirement already satisfied: tqdm in e:\\anaconda\\lib\\site-packages (from kaggle) (4.66.4)\n",
      "Requirement already satisfied: urllib3>=1.15.1 in e:\\anaconda\\lib\\site-packages (from kaggle) (2.2.2)\n",
      "Requirement already satisfied: webencodings in e:\\anaconda\\lib\\site-packages (from kaggle) (0.5.1)\n",
      "Requirement already satisfied: packaging in e:\\anaconda\\lib\\site-packages (from bleach->kaggle) (23.2)\n",
      "Requirement already satisfied: colorama in e:\\anaconda\\lib\\site-packages (from tqdm->kaggle) (0.4.6)\n"
     ]
    }
   ],
   "source": [
    "#install the kaggle library\n",
    "!pip install kaggle"
   ]
  },
  {
   "cell_type": "code",
   "execution_count": 5,
   "id": "fd4cf46c-d82e-4d64-9b8b-03630b060fca",
   "metadata": {},
   "outputs": [],
   "source": [
    "#Upload your kaggle.json\n",
    "#Configure the path of kaggle.json\n",
    "!mkdir -p ~/.kaggle\n",
    "!cp kaggle.json ~/.kaggle/\n",
    "!chmod 600 ~/.kaggle/kaggle.json"
   ]
  },
  {
   "cell_type": "code",
   "execution_count": 6,
   "id": "183a1858-a9e1-4bfc-8231-e874e224d18b",
   "metadata": {},
   "outputs": [
    {
     "name": "stdout",
     "output_type": "stream",
     "text": [
      "Requirement already satisfied: kaggle in e:\\anaconda\\lib\\site-packages (1.7.4.5)\n",
      "Requirement already satisfied: bleach in e:\\anaconda\\lib\\site-packages (from kaggle) (4.1.0)\n",
      "Requirement already satisfied: certifi>=14.05.14 in e:\\anaconda\\lib\\site-packages (from kaggle) (2024.6.2)\n",
      "Requirement already satisfied: charset-normalizer in e:\\anaconda\\lib\\site-packages (from kaggle) (2.0.4)\n",
      "Requirement already satisfied: idna in e:\\anaconda\\lib\\site-packages (from kaggle) (3.7)\n",
      "Requirement already satisfied: protobuf in e:\\anaconda\\lib\\site-packages (from kaggle) (3.20.3)\n",
      "Requirement already satisfied: python-dateutil>=2.5.3 in e:\\anaconda\\lib\\site-packages (from kaggle) (2.9.0.post0)\n",
      "Requirement already satisfied: python-slugify in e:\\anaconda\\lib\\site-packages (from kaggle) (5.0.2)\n",
      "Requirement already satisfied: requests in e:\\anaconda\\lib\\site-packages (from kaggle) (2.32.2)\n",
      "Requirement already satisfied: setuptools>=21.0.0 in e:\\anaconda\\lib\\site-packages (from kaggle) (69.5.1)\n",
      "Requirement already satisfied: six>=1.10 in e:\\anaconda\\lib\\site-packages (from kaggle) (1.16.0)\n",
      "Requirement already satisfied: text-unidecode in e:\\anaconda\\lib\\site-packages (from kaggle) (1.3)\n",
      "Requirement already satisfied: tqdm in e:\\anaconda\\lib\\site-packages (from kaggle) (4.66.4)\n",
      "Requirement already satisfied: urllib3>=1.15.1 in e:\\anaconda\\lib\\site-packages (from kaggle) (2.2.2)\n",
      "Requirement already satisfied: webencodings in e:\\anaconda\\lib\\site-packages (from kaggle) (0.5.1)\n",
      "Requirement already satisfied: packaging in e:\\anaconda\\lib\\site-packages (from bleach->kaggle) (23.2)\n",
      "Requirement already satisfied: colorama in e:\\anaconda\\lib\\site-packages (from tqdm->kaggle) (0.4.6)\n"
     ]
    }
   ],
   "source": [
    "!pip install kaggle"
   ]
  },
  {
   "cell_type": "code",
   "execution_count": 7,
   "id": "f060a3fe-7ab0-4a4f-8de6-881350545a08",
   "metadata": {},
   "outputs": [
    {
     "name": "stdout",
     "output_type": "stream",
     "text": [
      "HTTPSConnectionPool(host='www.kaggle.com', port=443): Max retries exceeded with url: /api/v1/datasets/list?group=public&sortby=hottest&size=all&filetype=all&license=all&viewed=unspecified&page=1 (Caused by SSLError(SSLEOFError(8, '[SSL: UNEXPECTED_EOF_WHILE_READING] EOF occurred in violation of protocol (_ssl.c:1000)')))\n"
     ]
    }
   ],
   "source": [
    "!kaggle datasets list"
   ]
  },
  {
   "cell_type": "code",
   "execution_count": 8,
   "id": "1b9d9f67-0bf0-4908-b3e4-655b31504ad1",
   "metadata": {},
   "outputs": [
    {
     "name": "stdout",
     "output_type": "stream",
     "text": [
      "403 Client Error: Forbidden for url: https://www.kaggle.com/api/v1/competitions/data/download-all/LANL-Earthquake-Prediction\n"
     ]
    }
   ],
   "source": [
    "!kaggle competitions download -c LANL-Earthquake-Prediction"
   ]
  },
  {
   "cell_type": "code",
   "execution_count": 9,
   "id": "29f0488b-b1cf-44c7-9fe3-8d1a4dd1f9bc",
   "metadata": {},
   "outputs": [],
   "source": [
    "import os, shutil\n",
    "\n",
    "kaggle_dir = os.path.join(os.path.expanduser(\"~\"), \".kaggle\")\n",
    "os.makedirs(kaggle_dir, exist_ok=True)\n",
    "shutil.copy(\"kaggle.json\", os.path.join(kaggle_dir, \"kaggle.json\"))\n",
    "\n",
    "try:\n",
    "    os.chmod(os.path.join(kaggle_dir, \"kaggle.json\"), 0o600)\n",
    "except:\n",
    "    pass\n"
   ]
  },
  {
   "cell_type": "code",
   "execution_count": 10,
   "id": "7adc2605-97bb-4cfd-9609-e501a3b89d2b",
   "metadata": {},
   "outputs": [
    {
     "name": "stdout",
     "output_type": "stream",
     "text": [
      "403 Client Error: Forbidden for url: https://www.kaggle.com/api/v1/competitions/data/download-all/LANL-Earthquake-Prediction\n"
     ]
    }
   ],
   "source": [
    "!kaggle competitions download -c LANL-Earthquake-Prediction\n"
   ]
  },
  {
   "cell_type": "code",
   "execution_count": null,
   "id": "a97ea9ae-42cf-42a1-8435-6e996bf7239f",
   "metadata": {},
   "outputs": [],
   "source": []
  }
 ],
 "metadata": {
  "kernelspec": {
   "display_name": "Python 3 (ipykernel)",
   "language": "python",
   "name": "python3"
  },
  "language_info": {
   "codemirror_mode": {
    "name": "ipython",
    "version": 3
   },
   "file_extension": ".py",
   "mimetype": "text/x-python",
   "name": "python",
   "nbconvert_exporter": "python",
   "pygments_lexer": "ipython3",
   "version": "3.12.4"
  }
 },
 "nbformat": 4,
 "nbformat_minor": 5
}
