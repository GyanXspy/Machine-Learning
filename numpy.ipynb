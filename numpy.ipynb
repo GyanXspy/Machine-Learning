{
 "cells": [
  {
   "cell_type": "code",
   "execution_count": 1,
   "id": "f2e57721-7dd1-47be-8c76-c1fbe91d152b",
   "metadata": {},
   "outputs": [],
   "source": [
    "import numpy as np"
   ]
  },
  {
   "cell_type": "code",
   "execution_count": 3,
   "id": "02d6c47c-c8ae-4a97-b605-71b9df8d6ee1",
   "metadata": {},
   "outputs": [],
   "source": [
    "from time import process_time"
   ]
  },
  {
   "cell_type": "code",
   "execution_count": 4,
   "id": "4764737c-1bf3-4d18-adc3-8091e802bc7b",
   "metadata": {},
   "outputs": [
    {
     "name": "stdout",
     "output_type": "stream",
     "text": [
      "0.0\n"
     ]
    }
   ],
   "source": [
    "python_list = [i for i in range(1000)]\n",
    "start_time = process_time()\n",
    "python_list = [i+5 for i in python_list]\n",
    "end_time = process_time()\n",
    "print(end_time - start_time)\n",
    "# print(start_time)"
   ]
  },
  {
   "cell_type": "code",
   "execution_count": 5,
   "id": "9d3a5f82-3d03-451f-bd5a-05e6e2d37ebb",
   "metadata": {},
   "outputs": [
    {
     "name": "stdout",
     "output_type": "stream",
     "text": [
      "0.0\n"
     ]
    }
   ],
   "source": [
    "np_array = np.array([i for i in range(1000)])\n",
    "start_time = process_time()\n",
    "np_array += 5\n",
    "end_time = process_time()\n",
    "print(end_time - start_time)\n"
   ]
  },
  {
   "cell_type": "code",
   "execution_count": 6,
   "id": "e00253d7-1345-4937-a61d-addbe455b60c",
   "metadata": {},
   "outputs": [
    {
     "data": {
      "text/plain": [
       "numpy.ndarray"
      ]
     },
     "execution_count": 6,
     "metadata": {},
     "output_type": "execute_result"
    }
   ],
   "source": [
    "list1 = [1, 6, 7, 2, 7]\n",
    "type(list1)\n",
    "\n",
    "np_array = np.array([1, 6, 7, 2, 7])\n",
    "type(np_array)"
   ]
  },
  {
   "cell_type": "code",
   "execution_count": 7,
   "id": "4632633e-076c-410c-be09-bc515d60fa5f",
   "metadata": {},
   "outputs": [
    {
     "name": "stdout",
     "output_type": "stream",
     "text": [
      "[[1 2 3 4]\n",
      " [5 6 7 8]]\n"
     ]
    },
    {
     "data": {
      "text/plain": [
       "(2, 4)"
      ]
     },
     "execution_count": 7,
     "metadata": {},
     "output_type": "execute_result"
    }
   ],
   "source": [
    "# a = np.array([1, 2, 3, 4])\n",
    "# print(a)\n",
    "# a.shape\n",
    "\n",
    "b = np.array([(1, 2, 3, 4), (5, 6, 7, 8)])\n",
    "print(b)\n",
    "b.shape #dimantion of an array"
   ]
  },
  {
   "cell_type": "code",
   "execution_count": 8,
   "id": "779f38e9-15e2-43e6-bc13-df24bf982490",
   "metadata": {},
   "outputs": [
    {
     "name": "stdout",
     "output_type": "stream",
     "text": [
      "[[0. 2. 3. 4.]\n",
      " [5. 6. 7. 8.]]\n"
     ]
    }
   ],
   "source": [
    "c = np.array([(0, 2, 3, 4), (5, 6, 7, 8)], dtype=float)\n",
    "print(c)\n"
   ]
  },
  {
   "cell_type": "code",
   "execution_count": 9,
   "id": "c6c41932-8e8f-437a-9d37-0b7b4357dc69",
   "metadata": {},
   "outputs": [
    {
     "name": "stdout",
     "output_type": "stream",
     "text": [
      "[[0. 0. 0. 0. 0.]\n",
      " [0. 0. 0. 0. 0.]\n",
      " [0. 0. 0. 0. 0.]\n",
      " [0. 0. 0. 0. 0.]]\n"
     ]
    }
   ],
   "source": [
    "d = np.zeros((4,5))\n",
    "print(d)"
   ]
  },
  {
   "cell_type": "code",
   "execution_count": 10,
   "id": "a155ab46-ffb3-4ee7-aa07-485d548e82fc",
   "metadata": {},
   "outputs": [
    {
     "name": "stdout",
     "output_type": "stream",
     "text": [
      "[[1. 1. 1. 1. 1.]\n",
      " [1. 1. 1. 1. 1.]\n",
      " [1. 1. 1. 1. 1.]\n",
      " [1. 1. 1. 1. 1.]]\n"
     ]
    }
   ],
   "source": [
    "e = np.ones((4,5))\n",
    "print(e)"
   ]
  },
  {
   "cell_type": "code",
   "execution_count": 11,
   "id": "431321fd-c795-4f3b-8eeb-8cfb760d44f0",
   "metadata": {},
   "outputs": [
    {
     "name": "stdout",
     "output_type": "stream",
     "text": [
      "[[5 5 5 5 5]\n",
      " [5 5 5 5 5]\n",
      " [5 5 5 5 5]\n",
      " [5 5 5 5 5]]\n"
     ]
    }
   ],
   "source": [
    "f = np.full((4,5), 5) # Array of spacific number\n",
    "print(f)"
   ]
  },
  {
   "cell_type": "code",
   "execution_count": 12,
   "id": "742fd3f0-f0f9-43ee-aaf7-df4eee8a4e8a",
   "metadata": {},
   "outputs": [
    {
     "name": "stdout",
     "output_type": "stream",
     "text": [
      "[[1. 0. 0. 0.]\n",
      " [0. 1. 0. 0.]\n",
      " [0. 0. 1. 0.]\n",
      " [0. 0. 0. 1.]]\n"
     ]
    }
   ],
   "source": [
    "f = np.identity(4) #Identity matrix\n",
    "print(f)\n"
   ]
  },
  {
   "cell_type": "code",
   "execution_count": 13,
   "id": "19932883-4158-4650-8c9a-81d4281f824a",
   "metadata": {},
   "outputs": [
    {
     "name": "stdout",
     "output_type": "stream",
     "text": [
      "[[1. 0. 0. 0. 0.]\n",
      " [0. 1. 0. 0. 0.]\n",
      " [0. 0. 1. 0. 0.]\n",
      " [0. 0. 0. 1. 0.]]\n"
     ]
    }
   ],
   "source": [
    "g = np.eye(4,5) #Identity matrix\n",
    "print(g)"
   ]
  },
  {
   "cell_type": "code",
   "execution_count": 14,
   "id": "9c2b3573-f905-449d-9b8c-02d1165a0cf6",
   "metadata": {},
   "outputs": [
    {
     "name": "stdout",
     "output_type": "stream",
     "text": [
      "[[456809  14358  34737  75158  46348]\n",
      " [374443  44609 247862 458777 340851]\n",
      " [ 57548  80159 252198  86644   4779]]\n"
     ]
    }
   ],
   "source": [
    "# Random int value array in spacific length\n",
    "i = np.random.randint(1,500000,(3,5))\n",
    "print(i)"
   ]
  },
  {
   "cell_type": "code",
   "execution_count": 15,
   "id": "7335c271-f280-4fbb-a1e3-75d8a217e985",
   "metadata": {},
   "outputs": [
    {
     "name": "stdout",
     "output_type": "stream",
     "text": [
      "[10. 14. 18. 22. 26. 30.]\n"
     ]
    }
   ],
   "source": [
    "j = np.linspace(10, 30, 6) #arrray of evenly spaced\n",
    "print(j)"
   ]
  },
  {
   "cell_type": "code",
   "execution_count": 16,
   "id": "47a6fe16-cd26-45bb-9321-8cd481b9db8e",
   "metadata": {},
   "outputs": [
    {
     "name": "stdout",
     "output_type": "stream",
     "text": [
      "[10 15 20 25]\n"
     ]
    }
   ],
   "source": [
    "k = np.arange(10, 30, 5) #array of evenly spaced values\n",
    "print(k)"
   ]
  },
  {
   "cell_type": "code",
   "execution_count": 17,
   "id": "5f03fb74-4128-470a-a857-13a980ed617f",
   "metadata": {},
   "outputs": [
    {
     "name": "stdout",
     "output_type": "stream",
     "text": [
      "[10 20 30 40 50]\n"
     ]
    },
    {
     "data": {
      "text/plain": [
       "numpy.ndarray"
      ]
     },
     "execution_count": 17,
     "metadata": {},
     "output_type": "execute_result"
    }
   ],
   "source": [
    "# convert list into array\n",
    "list2 = [10, 20, 30, 40, 50]\n",
    "np_array = np.asarray(list2)\n",
    "print(np_array)\n",
    "type(np_array)"
   ]
  },
  {
   "cell_type": "code",
   "execution_count": 18,
   "id": "e3d1f72d-0171-40f4-a07a-56c18826aac5",
   "metadata": {},
   "outputs": [
    {
     "name": "stdout",
     "output_type": "stream",
     "text": [
      "[[35 48 16 42 43]\n",
      " [10 20 48 69 39]\n",
      " [18 23 44 10 67]\n",
      " [17 33 57 11 18]\n",
      " [76 76 69 60 20]]\n"
     ]
    }
   ],
   "source": [
    "l = np.random.randint(10, 80, (5,5))\n",
    "print(l)"
   ]
  },
  {
   "cell_type": "code",
   "execution_count": 19,
   "id": "9adb5513-c402-4a2f-9c2a-bfcc1267930a",
   "metadata": {},
   "outputs": [
    {
     "name": "stdout",
     "output_type": "stream",
     "text": [
      "2\n"
     ]
    }
   ],
   "source": [
    "print(l.ndim) #Dimention of array"
   ]
  },
  {
   "cell_type": "code",
   "execution_count": 20,
   "id": "9a9edeae-e6ae-4055-81fc-d4d8d21f9911",
   "metadata": {},
   "outputs": [
    {
     "name": "stdout",
     "output_type": "stream",
     "text": [
      "25\n"
     ]
    }
   ],
   "source": [
    "# Number of element in the array\n",
    "print(l.size)"
   ]
  },
  {
   "cell_type": "code",
   "execution_count": 21,
   "id": "bffa750a-30ce-46f8-ae33-cdc3871a8af9",
   "metadata": {},
   "outputs": [
    {
     "name": "stdout",
     "output_type": "stream",
     "text": [
      "[1, 4, 8, 7, 52, 2, 4, 8, 9, 1, 6, 7]\n"
     ]
    }
   ],
   "source": [
    "list1 = [1, 4, 8, 7, 52, 2]\n",
    "list2 = [4, 8,9,1,6,7]\n",
    "print(list1+list2) #Concat the array not add the element"
   ]
  },
  {
   "cell_type": "code",
   "execution_count": 22,
   "id": "be4cad92-af90-486e-9893-5fe2c7b49fa4",
   "metadata": {},
   "outputs": [
    {
     "name": "stdout",
     "output_type": "stream",
     "text": [
      "[[8 5 4]\n",
      " [8 8 6]\n",
      " [8 9 6]]\n",
      "[[17 16 19]\n",
      " [17 18 10]\n",
      " [19 16 11]]\n"
     ]
    }
   ],
   "source": [
    "m = np.random.randint(0, 10, (3, 3))\n",
    "n = np.random.randint(10, 20, (3, 3))\n",
    "print(m)\n",
    "print(n)"
   ]
  },
  {
   "cell_type": "code",
   "execution_count": 23,
   "id": "97795967-3786-403d-9e6d-9abf5057a31f",
   "metadata": {},
   "outputs": [
    {
     "name": "stdout",
     "output_type": "stream",
     "text": [
      "[[25 21 23]\n",
      " [25 26 16]\n",
      " [27 25 17]]\n"
     ]
    }
   ],
   "source": [
    "print(m+n)"
   ]
  },
  {
   "cell_type": "code",
   "execution_count": 24,
   "id": "70d49d6c-7ebc-440d-bd29-7028689bf1cc",
   "metadata": {},
   "outputs": [
    {
     "name": "stdout",
     "output_type": "stream",
     "text": [
      "[[ -9 -11 -15]\n",
      " [ -9 -10  -4]\n",
      " [-11  -7  -5]]\n"
     ]
    }
   ],
   "source": [
    "print(m-n)"
   ]
  },
  {
   "cell_type": "code",
   "execution_count": 25,
   "id": "f7edd724-384c-4eff-a843-b898d5c3e839",
   "metadata": {},
   "outputs": [
    {
     "name": "stdout",
     "output_type": "stream",
     "text": [
      "[[0.47058824 0.3125     0.21052632]\n",
      " [0.47058824 0.44444444 0.6       ]\n",
      " [0.42105263 0.5625     0.54545455]]\n"
     ]
    }
   ],
   "source": [
    "print(m/n)"
   ]
  },
  {
   "cell_type": "code",
   "execution_count": 26,
   "id": "272f7d56-6e9d-4b3e-ba6b-1063de272098",
   "metadata": {},
   "outputs": [
    {
     "name": "stdout",
     "output_type": "stream",
     "text": [
      "[[25 21 23]\n",
      " [25 26 16]\n",
      " [27 25 17]]\n",
      "[[ -9 -11 -15]\n",
      " [ -9 -10  -4]\n",
      " [-11  -7  -5]]\n",
      "[[136  80  76]\n",
      " [136 144  60]\n",
      " [152 144  66]]\n",
      "[[0.47058824 0.3125     0.21052632]\n",
      " [0.47058824 0.44444444 0.6       ]\n",
      " [0.42105263 0.5625     0.54545455]]\n"
     ]
    }
   ],
   "source": [
    "print(np.add(m,n)) #Do insted of m + n\n",
    "print(np.subtract(m,n)) #Do insted of m - n\n",
    "print(np.multiply(m,n)) #Do instade of m * n\n",
    "print(np.divide(m,n))"
   ]
  },
  {
   "cell_type": "code",
   "execution_count": 27,
   "id": "90e34fda-4f94-42b0-b721-b953d0b70b98",
   "metadata": {},
   "outputs": [
    {
     "name": "stdout",
     "output_type": "stream",
     "text": [
      "[[0 6 8]\n",
      " [4 6 8]]\n",
      "(2, 3)\n"
     ]
    }
   ],
   "source": [
    "array = np.random.randint(0, 10, (2,3))\n",
    "print(array)\n",
    "print(array.shape)"
   ]
  },
  {
   "cell_type": "code",
   "execution_count": 28,
   "id": "35f31a0f-9b9c-4b49-9458-f9f7b2bf2d16",
   "metadata": {},
   "outputs": [
    {
     "name": "stdout",
     "output_type": "stream",
     "text": [
      "[[0 4]\n",
      " [6 6]\n",
      " [8 8]]\n",
      "(3, 2)\n"
     ]
    }
   ],
   "source": [
    "# Transpose array\n",
    "trans = np.transpose(array)\n",
    "print(trans)\n",
    "print(trans.shape)"
   ]
  },
  {
   "cell_type": "code",
   "execution_count": 29,
   "id": "b8ae569e-4fe5-46a0-90ca-f1f580eb032d",
   "metadata": {},
   "outputs": [
    {
     "name": "stdout",
     "output_type": "stream",
     "text": [
      "[[7 8 6 7 5 7]\n",
      " [1 3 0 8 1 7]\n",
      " [3 4 4 2 2 9]\n",
      " [3 4 5 5 6 9]\n",
      " [6 8 0 7 5 4]]\n"
     ]
    }
   ],
   "source": [
    "a = np.random.randint(0, 10, (5, 6))\n",
    "print(a)"
   ]
  },
  {
   "cell_type": "code",
   "execution_count": 30,
   "id": "3e3c66a5-04c8-425f-b134-c629465b4aa4",
   "metadata": {},
   "outputs": [
    {
     "name": "stdout",
     "output_type": "stream",
     "text": [
      "32\n"
     ]
    }
   ],
   "source": [
    "x = np.random.randint(100)\n",
    "print(x)\n"
   ]
  },
  {
   "cell_type": "code",
   "execution_count": 32,
   "id": "ec95ff4a-adf7-4d5b-8ad6-bc89c707274c",
   "metadata": {},
   "outputs": [
    {
     "name": "stdout",
     "output_type": "stream",
     "text": [
      "[31 77 22 84 46]\n"
     ]
    }
   ],
   "source": [
    "x=np.random.randint(100, size=(5))\n",
    "\n",
    "print(x)"
   ]
  },
  {
   "cell_type": "code",
   "execution_count": 38,
   "id": "58108cfc-5ab5-4568-b38d-6b5696f9d89e",
   "metadata": {},
   "outputs": [
    {
     "name": "stdout",
     "output_type": "stream",
     "text": [
      "[8 3 2 6 1 4]\n"
     ]
    }
   ],
   "source": [
    "z = np.array([1, 8, 6, 4, 2, 3]) # Shuffle data in the array\n",
    "np.random.shuffle(z)\n",
    "print(z)"
   ]
  },
  {
   "cell_type": "code",
   "execution_count": 45,
   "id": "b65a3230-1c6b-43d2-a4ff-af4b20021ae6",
   "metadata": {},
   "outputs": [
    {
     "name": "stdout",
     "output_type": "stream",
     "text": [
      "[1 3 6 4 2 8]\n"
     ]
    }
   ],
   "source": [
    "print(np.random.permutation(z))"
   ]
  },
  {
   "cell_type": "code",
   "execution_count": null,
   "id": "440af1b6-4739-4b1b-9972-b512402696e4",
   "metadata": {},
   "outputs": [],
   "source": []
  }
 ],
 "metadata": {
  "kernelspec": {
   "display_name": "Python 3 (ipykernel)",
   "language": "python",
   "name": "python3"
  },
  "language_info": {
   "codemirror_mode": {
    "name": "ipython",
    "version": 3
   },
   "file_extension": ".py",
   "mimetype": "text/x-python",
   "name": "python",
   "nbconvert_exporter": "python",
   "pygments_lexer": "ipython3",
   "version": "3.12.4"
  }
 },
 "nbformat": 4,
 "nbformat_minor": 5
}
